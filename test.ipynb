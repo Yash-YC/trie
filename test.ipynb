{
 "cells": [
  {
   "cell_type": "markdown",
   "metadata": {},
   "source": []
  },
  {
   "cell_type": "code",
   "execution_count": 1,
   "metadata": {},
   "outputs": [],
   "source": [
    "from pypruningradixtrie.trie import *\n",
    "from pypruningradixtrie.input.csv_input_provider import *\n",
    "from pypruningradixtrie.insert import *"
   ]
  },
  {
   "cell_type": "code",
   "execution_count": 2,
   "metadata": {},
   "outputs": [
    {
     "data": {
      "text/html": [
       "<div>\n",
       "<style scoped>\n",
       "    .dataframe tbody tr th:only-of-type {\n",
       "        vertical-align: middle;\n",
       "    }\n",
       "\n",
       "    .dataframe tbody tr th {\n",
       "        vertical-align: top;\n",
       "    }\n",
       "\n",
       "    .dataframe thead th {\n",
       "        text-align: right;\n",
       "    }\n",
       "</style>\n",
       "<table border=\"1\" class=\"dataframe\">\n",
       "  <thead>\n",
       "    <tr style=\"text-align: right;\">\n",
       "      <th></th>\n",
       "      <th>item_names</th>\n",
       "      <th>item_count</th>\n",
       "    </tr>\n",
       "  </thead>\n",
       "  <tbody>\n",
       "    <tr>\n",
       "      <th>0</th>\n",
       "      <td>Boosah Satin Nighty &amp; Night Gowns</td>\n",
       "      <td>4000</td>\n",
       "    </tr>\n",
       "    <tr>\n",
       "      <th>1</th>\n",
       "      <td>D Naked Net Baby Doll Dresses With Panty</td>\n",
       "      <td>3414</td>\n",
       "    </tr>\n",
       "    <tr>\n",
       "      <th>2</th>\n",
       "      <td>Broadstar Denim Lycra Jeans</td>\n",
       "      <td>2918</td>\n",
       "    </tr>\n",
       "    <tr>\n",
       "      <th>3</th>\n",
       "      <td>Freesia Nylon Tube Bra</td>\n",
       "      <td>2066</td>\n",
       "    </tr>\n",
       "    <tr>\n",
       "      <th>4</th>\n",
       "      <td>D Naked Net Baby Doll Dresses With Panty - Black</td>\n",
       "      <td>2030</td>\n",
       "    </tr>\n",
       "  </tbody>\n",
       "</table>\n",
       "</div>"
      ],
      "text/plain": [
       "                                         item_names  item_count\n",
       "0                 Boosah Satin Nighty & Night Gowns        4000\n",
       "1          D Naked Net Baby Doll Dresses With Panty        3414\n",
       "2                       Broadstar Denim Lycra Jeans        2918\n",
       "3                            Freesia Nylon Tube Bra        2066\n",
       "4  D Naked Net Baby Doll Dresses With Panty - Black        2030"
      ]
     },
     "execution_count": 2,
     "metadata": {},
     "output_type": "execute_result"
    }
   ],
   "source": [
    "import pandas as pd\n",
    "data = pd.read_csv(\"item_counts.csv\")\n",
    "data.head()"
   ]
  },
  {
   "cell_type": "code",
   "execution_count": 3,
   "metadata": {},
   "outputs": [],
   "source": [
    "# data = data.sample(frac=1).reset_index()"
   ]
  },
  {
   "cell_type": "code",
   "execution_count": 4,
   "metadata": {},
   "outputs": [],
   "source": [
    "trie = PruningRadixTrie()\n",
    "trie = PruningRadixTrie('item_counts.csv', CSVInputProvider(',', lambda x: float(x[1])))\n",
    "\n",
    "fill_trie_from_file(trie, 'item_counts.csv', CSVInputProvider(',', lambda x: float(x[1]), 0))"
   ]
  },
  {
   "cell_type": "code",
   "execution_count": 8,
   "metadata": {},
   "outputs": [
    {
     "name": "stdout",
     "output_type": "stream",
     "text": [
      "Boosah Satin Nighty & Night Gowns 8000.0\n",
      "Boosah Red Satin Baby Doll Dresses 1076.0\n",
      "Boosah Purple Satin Babydoll Dress 1068.0\n",
      "Boosah Pink Satin Baby Doll Dresses 1024.0\n",
      "Boosah Multi Color Satin Nightsuit Sets 994.0\n"
     ]
    }
   ],
   "source": [
    "# run = True\n",
    "# while run ==True:\n",
    "    # key = str(input())\n",
    "n = 5\n",
    "name_value = str(raw_input())\n",
    "\n",
    "for i in trie.get_top_k_for_prefix(name_value, n):\n",
    "    print(i.term, i.score)\n",
    "    # if key == \"quit\":\n",
    "    #     run = False\n"
   ]
  },
  {
   "cell_type": "code",
   "execution_count": 9,
   "metadata": {},
   "outputs": [
    {
     "data": {
      "text/html": [
       "<div>\n",
       "<style scoped>\n",
       "    .dataframe tbody tr th:only-of-type {\n",
       "        vertical-align: middle;\n",
       "    }\n",
       "\n",
       "    .dataframe tbody tr th {\n",
       "        vertical-align: top;\n",
       "    }\n",
       "\n",
       "    .dataframe thead th {\n",
       "        text-align: right;\n",
       "    }\n",
       "</style>\n",
       "<table border=\"1\" class=\"dataframe\">\n",
       "  <thead>\n",
       "    <tr style=\"text-align: right;\">\n",
       "      <th></th>\n",
       "      <th>item_names</th>\n",
       "      <th>item_count</th>\n",
       "    </tr>\n",
       "  </thead>\n",
       "  <tbody>\n",
       "    <tr>\n",
       "      <th>0</th>\n",
       "      <td>Boosah Satin Nighty &amp; Night Gowns</td>\n",
       "      <td>4000</td>\n",
       "    </tr>\n",
       "    <tr>\n",
       "      <th>141</th>\n",
       "      <td>Boosah Red Satin Baby Doll Dresses</td>\n",
       "      <td>538</td>\n",
       "    </tr>\n",
       "    <tr>\n",
       "      <th>199</th>\n",
       "      <td>Boosah Purple Satin Babydoll Dress</td>\n",
       "      <td>534</td>\n",
       "    </tr>\n",
       "    <tr>\n",
       "      <th>652</th>\n",
       "      <td>Boosah Pink Satin Baby Doll Dresses</td>\n",
       "      <td>512</td>\n",
       "    </tr>\n",
       "    <tr>\n",
       "      <th>748</th>\n",
       "      <td>Boosah Multi Color Satin Nightsuit Sets</td>\n",
       "      <td>497</td>\n",
       "    </tr>\n",
       "  </tbody>\n",
       "</table>\n",
       "</div>"
      ],
      "text/plain": [
       "                                  item_names  item_count\n",
       "0          Boosah Satin Nighty & Night Gowns        4000\n",
       "141       Boosah Red Satin Baby Doll Dresses         538\n",
       "199       Boosah Purple Satin Babydoll Dress         534\n",
       "652      Boosah Pink Satin Baby Doll Dresses         512\n",
       "748  Boosah Multi Color Satin Nightsuit Sets         497"
      ]
     },
     "execution_count": 9,
     "metadata": {},
     "output_type": "execute_result"
    }
   ],
   "source": [
    "# name_value = str(input())\n",
    "data[data[\"item_names\"].str.startswith(name_value)][:n]"
   ]
  },
  {
   "cell_type": "code",
   "execution_count": null,
   "metadata": {},
   "outputs": [],
   "source": [
    "# Drapes Maroon Cotton Printed Unstitched Dress Material with Dupatta 529\n",
    "# Drapes Yellow & Golden Unstitched Dress Material (Pack of 2) 522\n",
    "# Drapes Brown Cotton Dress Material 519 \n",
    "# Drumstone HDMI Cable Red - 1 Meter 516 \n",
    "# Dracht Cotton Lycra Crop Tops - Black\n",
    "\n",
    "# Boosah Satin Nighty & Night Gowns, 4000\n",
    "# Boosah Red Satin Baby Doll Dresses, 538\n",
    "# Boosah Purple Satin Babydoll Dress, 534\n"
   ]
  }
 ],
 "metadata": {
  "kernelspec": {
   "display_name": "Python 3.9.13 ('Nlp')",
   "language": "python",
   "name": "python3"
  },
  "language_info": {
   "codemirror_mode": {
    "name": "ipython",
    "version": 3
   },
   "file_extension": ".py",
   "mimetype": "text/x-python",
   "name": "python",
   "nbconvert_exporter": "python",
   "pygments_lexer": "ipython3",
   "version": "3.9.13"
  },
  "orig_nbformat": 4,
  "vscode": {
   "interpreter": {
    "hash": "0a964efe3723dbaba3f1a9613a86742d95cd520d2c339bb9eae35b28f017c197"
   }
  }
 },
 "nbformat": 4,
 "nbformat_minor": 2
}
